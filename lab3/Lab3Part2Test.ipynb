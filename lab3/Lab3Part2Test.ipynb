{
 "cells": [
  {
   "cell_type": "markdown",
   "id": "fa85fdb6",
   "metadata": {},
   "source": [
    "# K-means кластеризация"
   ]
  },
  {
   "cell_type": "markdown",
   "id": "faa97c93",
   "metadata": {},
   "source": [
    "### Описание алгоритма \n",
    "1. Arbitrarily choose an initial $k$ centers $C=\\{c_1, c_2,···, c_k\\}$.\n",
    "2. For each $i \\in \\{1, . . . , k\\}$, set the cluster $C_i$ to be the set of points in $X$ that are closer to $c_i$ than they are to $c_j$ for all $j\\neq i$.\n",
    "3. For each $i \\in \\{1, . . . , k\\}$, set $c_i$ to be the center of mass of all points in $C_i: c_i=\\frac{1}{|C_i|} \\sum_{x \\in C_i}{x}$.\n",
    "4. Repeat Steps 2 and 3 until $C$ no longer changes."
   ]
  },
  {
   "cell_type": "markdown",
   "id": "59825602",
   "metadata": {},
   "source": [
    "### Импортируем нужные библиотеки\n",
    "Pandas - для удобной работы с данными, matplotlib - для визуализации, numpy - для математики"
   ]
  },
  {
   "cell_type": "code",
   "execution_count": 1,
   "id": "25196bfa",
   "metadata": {},
   "outputs": [],
   "source": [
    "import pandas as pd\n",
    "import matplotlib.pyplot as plt\n",
    "import numpy as np\n",
    "import random"
   ]
  },
  {
   "cell_type": "markdown",
   "id": "492e68fa",
   "metadata": {},
   "source": [
    "### Cчитаем данные в DataFrame"
   ]
  },
  {
   "cell_type": "code",
   "execution_count": 2,
   "id": "2966f903",
   "metadata": {},
   "outputs": [
    {
     "data": {
      "text/html": [
       "<div>\n",
       "<style scoped>\n",
       "    .dataframe tbody tr th:only-of-type {\n",
       "        vertical-align: middle;\n",
       "    }\n",
       "\n",
       "    .dataframe tbody tr th {\n",
       "        vertical-align: top;\n",
       "    }\n",
       "\n",
       "    .dataframe thead th {\n",
       "        text-align: right;\n",
       "    }\n",
       "</style>\n",
       "<table border=\"1\" class=\"dataframe\">\n",
       "  <thead>\n",
       "    <tr style=\"text-align: right;\">\n",
       "      <th></th>\n",
       "      <th>x</th>\n",
       "      <th>y</th>\n",
       "    </tr>\n",
       "  </thead>\n",
       "  <tbody>\n",
       "    <tr>\n",
       "      <th>15</th>\n",
       "      <td>107</td>\n",
       "      <td>2</td>\n",
       "    </tr>\n",
       "    <tr>\n",
       "      <th>30</th>\n",
       "      <td>55</td>\n",
       "      <td>0</td>\n",
       "    </tr>\n",
       "    <tr>\n",
       "      <th>6</th>\n",
       "      <td>112</td>\n",
       "      <td>4</td>\n",
       "    </tr>\n",
       "    <tr>\n",
       "      <th>19</th>\n",
       "      <td>100</td>\n",
       "      <td>3</td>\n",
       "    </tr>\n",
       "    <tr>\n",
       "      <th>3</th>\n",
       "      <td>110</td>\n",
       "      <td>5</td>\n",
       "    </tr>\n",
       "    <tr>\n",
       "      <th>8</th>\n",
       "      <td>95</td>\n",
       "      <td>3</td>\n",
       "    </tr>\n",
       "    <tr>\n",
       "      <th>22</th>\n",
       "      <td>70</td>\n",
       "      <td>-1</td>\n",
       "    </tr>\n",
       "    <tr>\n",
       "      <th>36</th>\n",
       "      <td>65</td>\n",
       "      <td>0</td>\n",
       "    </tr>\n",
       "    <tr>\n",
       "      <th>9</th>\n",
       "      <td>90</td>\n",
       "      <td>3</td>\n",
       "    </tr>\n",
       "    <tr>\n",
       "      <th>32</th>\n",
       "      <td>45</td>\n",
       "      <td>-1</td>\n",
       "    </tr>\n",
       "  </tbody>\n",
       "</table>\n",
       "</div>"
      ],
      "text/plain": [
       "      x  y\n",
       "15  107  2\n",
       "30   55  0\n",
       "6   112  4\n",
       "19  100  3\n",
       "3   110  5\n",
       "8    95  3\n",
       "22   70 -1\n",
       "36   65  0\n",
       "9    90  3\n",
       "32   45 -1"
      ]
     },
     "execution_count": 2,
     "metadata": {},
     "output_type": "execute_result"
    }
   ],
   "source": [
    "data = pd.read_csv('lab3Train.csv', index_col=0)\n",
    "#вывести пять случайных строк таблицы\n",
    "data.sample(10)"
   ]
  },
  {
   "cell_type": "code",
   "execution_count": 3,
   "id": "e96f376b",
   "metadata": {},
   "outputs": [
    {
     "data": {
      "image/png": "[encoded data removed]",
      "text/plain": [
       "<Figure size 432x288 with 1 Axes>"
      ]
     },
     "metadata": {
      "needs_background": "light"
     },
     "output_type": "display_data"
    }
   ],
   "source": [
    "#параметр scatter для графиков рассеяния\n",
    "data.plot(kind='scatter', x='x', y='y')\n",
    "plt.show()"
   ]
  },
  {
   "cell_type": "markdown",
   "id": "ccd6b597",
   "metadata": {},
   "source": [
    "### K-means++ \n",
    "Суть улучшения заключается в нахождении более «хороших» начальных значений центроидов кластеров:\n",
    "1. Выбрать первый центроид случайным образом (среди всех точек)\n",
    "2. Для каждой точки найти значение квадрата расстояния до ближайшего центроида (из тех, которые уже выбраны) dx²\n",
    "3. Выбрать из этих точек следующий центроид так, чтобы вероятность выбора точки была пропорциональна вычисленному для неё квадрату расстояния. Это можно сделать следующим образом. На шаге 2 нужно параллельно с расчётом dx² подсчитывать сумму Sum(dx²). После накопления суммы найти значение Rnd=random(0.0,1.0)*Sum. Rnd случайным образом укажет на число из интервала [0; Sum), и нам остаётся только определить, какой точке это соответствует. Для этого нужно снова начать подсчитывать сумму S(dx²) до тех пор, пока сумма не превысит Rnd. Как только это случится, суммирование останавливается, и мы можем взять текущую точку в качестве центроида.\n",
    "При выборе каждого следующего центроида специально следить за тем, чтобы он не совпал с одной из уже выбранных в качестве центроидов точек, не нужно, так как вероятность повторного выбора некоторой точки равна 0.\n",
    "4. Повторять шаги 2 и 3 до тех пор, пока не будут найдены все необходимые центроиды."
   ]
  },
  {
   "cell_type": "code",
   "execution_count": 4,
   "id": "3642cefc",
   "metadata": {},
   "outputs": [],
   "source": [
    "# Функция для нахождения центроид по алгоритму k-means++\n",
    "def c_init_kmeans_plusplus(x, y, k): \n",
    "#     выбираем первый центроид случайным образом из всех точек\n",
    "    random_index = random.randint(0, len(x) - 1)\n",
    "    c_x = []\n",
    "    c_y = []\n",
    "    c_x.append(x[random_index])\n",
    "    c_y.append(y[random_index])\n",
    "#     до тех пора, пока не будут найдены все необходимые центроиды\n",
    "    while (k-1) > 0: \n",
    "        dx2 = []\n",
    "#         для всех точек\n",
    "        for point_x, point_y in zip(x,y):\n",
    "            euclidean_dist = []\n",
    "            for cent_x, cent_y in zip(c_x,c_y):\n",
    "#                 считаем евклидово расстояние до всех центроид\n",
    "                dist = (cent_x - point_x) ** 2 + (cent_y - point_y)**2\n",
    "                euclidean_dist.append(dist)\n",
    "#             в список расстояний добавляем расстояние до ближайшей центроиды\n",
    "            dx2.append(min(euclidean_dist))\n",
    "#         находим сумму расстояний\n",
    "        Sum = np.sum(dx2)\n",
    "#         случайное число из интервала [0;Sum)\n",
    "        Rnd = random.random()*Sum\n",
    "        Sum_new = -1\n",
    "#         пересчитываем сумму расстояний\n",
    "        for i in range(len(dx2)):\n",
    "#             до тех пор, пока не превысит найденное случайное число\n",
    "            if Sum_new <= Rnd:\n",
    "                Sum_new += dx2[i]\n",
    "            else: \n",
    "#                 берем текущую точку в качестве следующего центроида\n",
    "                c_x.append(x[i])\n",
    "                c_y.append(y[i])\n",
    "                break \n",
    "        k -= 1\n",
    "    return c_x, c_y"
   ]
  },
  {
   "cell_type": "code",
   "execution_count": 5,
   "id": "625cc74c",
   "metadata": {},
   "outputs": [],
   "source": [
    "# Функция для нахождения центроид - двух случайных точек из выборки\n",
    "def c_init_kmeans(x, y, k): \n",
    "    c_x = []\n",
    "    c_y = []\n",
    "    for _ in range(k):\n",
    "        random_index = random.randint(0, len(x) - 1)\n",
    "        c_x.append(x[random_index])\n",
    "        c_y.append(y[random_index])\n",
    "        x.pop(random_index)\n",
    "        y.pop(random_index)\n",
    "    return c_x, c_y"
   ]
  },
  {
   "cell_type": "code",
   "execution_count": 6,
   "id": "285129a2",
   "metadata": {},
   "outputs": [],
   "source": [
    "# Вызываем функцию для нахождения начальных значений центроид\n",
    "# c_x, c_y = c_init_kmeans(data['x'].tolist(),data['y'].tolist(),2)\n",
    "c_x, c_y  = c_init_kmeans_plusplus(data['x'].tolist(),data['y'].tolist(),2)"
   ]
  },
  {
   "cell_type": "markdown",
   "id": "075c28ab",
   "metadata": {},
   "source": [
    "### Выводим найденые центроиды на график "
   ]
  },
  {
   "cell_type": "code",
   "execution_count": 7,
   "id": "17446e77",
   "metadata": {},
   "outputs": [
    {
     "data": {
      "image/png": "[encoded data removed]",
      "text/plain": [
       "<Figure size 432x288 with 1 Axes>"
      ]
     },
     "metadata": {
      "needs_background": "light"
     },
     "output_type": "display_data"
    }
   ],
   "source": [
    "data.plot(kind='scatter', x='x', y='y')\n",
    "plt.plot(c_x, c_y, 'ro', linewidth=2)\n",
    "plt.show()"
   ]
  },
  {
   "cell_type": "markdown",
   "id": "e1eab6ab",
   "metadata": {},
   "source": [
    "### Реализация K-Means Clustering  "
   ]
  },
  {
   "cell_type": "code",
   "execution_count": 8,
   "id": "a58df01c",
   "metadata": {},
   "outputs": [],
   "source": [
    "# На вход принимаем данные из датасета, количество класстеров и начальные центроиды\n",
    "def train_k_means_clustering (x, y, k, c_x, c_y):\n",
    "    c_x_old = []\n",
    "    c_y_old = []\n",
    "#     пока центроиды отличаются\n",
    "    while c_x != c_x_old and c_y != c_y_old: \n",
    "        c_x_old = c_x\n",
    "        c_y_old = c_y\n",
    "        answers = []\n",
    "#         проходимся по точкам и считаем евклидово расстояние\n",
    "        for point_x, point_y in zip(x,y):\n",
    "            euclidean_dist = []\n",
    "            for cent_x, cent_y in zip(c_x,c_y):  \n",
    "                dist = ((cent_x - point_x) ** 2 + (cent_y - point_y) ** 2) ** (1/2)\n",
    "                euclidean_dist.append(dist) \n",
    "#             В столбец ответов записываем индекс массива - с расстояниями от точки до центроид\n",
    "#             с наименьшим значением расстояния. Это будет названием класса для точки. \n",
    "            answers.append(np.argmin(euclidean_dist))\n",
    "#         обновляем значение центроид\n",
    "        c_x = []\n",
    "        c_y = []\n",
    "#         проходим по классам\n",
    "        for i in range(k): \n",
    "            sum_x = 0 \n",
    "            sum_y = 0 \n",
    "#             пробегаем по строкам с точками\n",
    "            for j in range(len(answers)): \n",
    "#                 если значение из класса, который мы сейчас рассматриваем - прибавляем к сумме\n",
    "                if answers[j] == i: \n",
    "                    sum_x += x[j] \n",
    "                    sum_y += y[j]\n",
    "#             находим итоговое значение новых центроид\n",
    "            c_x.append(1 / answers.count(i) * sum_x)\n",
    "            c_y.append(1 / answers.count(i) * sum_y)\n",
    "    return c_x, c_y, answers          "
   ]
  },
  {
   "cell_type": "code",
   "execution_count": 9,
   "id": "6e9652e1",
   "metadata": {},
   "outputs": [
    {
     "data": {
      "text/html": [
       "<div>\n",
       "<style scoped>\n",
       "    .dataframe tbody tr th:only-of-type {\n",
       "        vertical-align: middle;\n",
       "    }\n",
       "\n",
       "    .dataframe tbody tr th {\n",
       "        vertical-align: top;\n",
       "    }\n",
       "\n",
       "    .dataframe thead th {\n",
       "        text-align: right;\n",
       "    }\n",
       "</style>\n",
       "<table border=\"1\" class=\"dataframe\">\n",
       "  <thead>\n",
       "    <tr style=\"text-align: right;\">\n",
       "      <th></th>\n",
       "      <th>x</th>\n",
       "      <th>y</th>\n",
       "      <th>Answer</th>\n",
       "    </tr>\n",
       "  </thead>\n",
       "  <tbody>\n",
       "    <tr>\n",
       "      <th>36</th>\n",
       "      <td>65</td>\n",
       "      <td>0</td>\n",
       "      <td>0</td>\n",
       "    </tr>\n",
       "    <tr>\n",
       "      <th>8</th>\n",
       "      <td>95</td>\n",
       "      <td>3</td>\n",
       "      <td>1</td>\n",
       "    </tr>\n",
       "    <tr>\n",
       "      <th>11</th>\n",
       "      <td>110</td>\n",
       "      <td>5</td>\n",
       "      <td>1</td>\n",
       "    </tr>\n",
       "    <tr>\n",
       "      <th>17</th>\n",
       "      <td>96</td>\n",
       "      <td>2</td>\n",
       "      <td>1</td>\n",
       "    </tr>\n",
       "    <tr>\n",
       "      <th>5</th>\n",
       "      <td>102</td>\n",
       "      <td>4</td>\n",
       "      <td>1</td>\n",
       "    </tr>\n",
       "    <tr>\n",
       "      <th>32</th>\n",
       "      <td>45</td>\n",
       "      <td>-1</td>\n",
       "      <td>0</td>\n",
       "    </tr>\n",
       "    <tr>\n",
       "      <th>15</th>\n",
       "      <td>107</td>\n",
       "      <td>2</td>\n",
       "      <td>1</td>\n",
       "    </tr>\n",
       "    <tr>\n",
       "      <th>22</th>\n",
       "      <td>70</td>\n",
       "      <td>-1</td>\n",
       "      <td>0</td>\n",
       "    </tr>\n",
       "    <tr>\n",
       "      <th>6</th>\n",
       "      <td>112</td>\n",
       "      <td>4</td>\n",
       "      <td>1</td>\n",
       "    </tr>\n",
       "    <tr>\n",
       "      <th>26</th>\n",
       "      <td>80</td>\n",
       "      <td>0</td>\n",
       "      <td>1</td>\n",
       "    </tr>\n",
       "  </tbody>\n",
       "</table>\n",
       "</div>"
      ],
      "text/plain": [
       "      x  y  Answer\n",
       "36   65  0       0\n",
       "8    95  3       1\n",
       "11  110  5       1\n",
       "17   96  2       1\n",
       "5   102  4       1\n",
       "32   45 -1       0\n",
       "15  107  2       1\n",
       "22   70 -1       0\n",
       "6   112  4       1\n",
       "26   80  0       1"
      ]
     },
     "execution_count": 9,
     "metadata": {},
     "output_type": "execute_result"
    }
   ],
   "source": [
    "# вызываем функцию кластеризации\n",
    "C_x, C_y, answer = train_k_means_clustering(data['x'].tolist(), data['y'].tolist(), 2, c_x, c_y)\n",
    "# вставляем полученный столбец ответов в таблицу\n",
    "data.insert(len(data.columns), \"Answer\", answer, False)\n",
    "#вывести пять случайных строк таблицы\n",
    "data.sample(10)"
   ]
  },
  {
   "cell_type": "markdown",
   "id": "aea9b5ee",
   "metadata": {},
   "source": [
    "### Визуализируем найденные кластеры"
   ]
  },
  {
   "cell_type": "code",
   "execution_count": 10,
   "id": "df805c3d",
   "metadata": {},
   "outputs": [
    {
     "data": {
      "image/png": "[encoded data removed]",
      "text/plain": [
       "<Figure size 432x288 with 1 Axes>"
      ]
     },
     "metadata": {
      "needs_background": "light"
     },
     "output_type": "display_data"
    }
   ],
   "source": [
    "for i in range(2):\n",
    "    X = data.loc[data['Answer'] == i]['x'].tolist()\n",
    "    Y = data.loc[data['Answer'] == i]['y'].tolist()\n",
    "    plt.plot(C_x[i],C_y[i],'o')\n",
    "    plt.plot(X,Y, 'o')\n",
    "plt.show()"
   ]
  },
  {
   "cell_type": "markdown",
   "id": "fcfd2f92",
   "metadata": {},
   "source": [
    "### Загружаем тестовую выборку"
   ]
  },
  {
   "cell_type": "code",
   "execution_count": 11,
   "id": "abaa4378",
   "metadata": {},
   "outputs": [
    {
     "data": {
      "text/html": [
       "<div>\n",
       "<style scoped>\n",
       "    .dataframe tbody tr th:only-of-type {\n",
       "        vertical-align: middle;\n",
       "    }\n",
       "\n",
       "    .dataframe tbody tr th {\n",
       "        vertical-align: top;\n",
       "    }\n",
       "\n",
       "    .dataframe thead th {\n",
       "        text-align: right;\n",
       "    }\n",
       "</style>\n",
       "<table border=\"1\" class=\"dataframe\">\n",
       "  <thead>\n",
       "    <tr style=\"text-align: right;\">\n",
       "      <th></th>\n",
       "      <th>x</th>\n",
       "      <th>y</th>\n",
       "    </tr>\n",
       "  </thead>\n",
       "  <tbody>\n",
       "    <tr>\n",
       "      <th>1</th>\n",
       "      <td>40</td>\n",
       "      <td>-2.0</td>\n",
       "    </tr>\n",
       "    <tr>\n",
       "      <th>2</th>\n",
       "      <td>50</td>\n",
       "      <td>2.0</td>\n",
       "    </tr>\n",
       "    <tr>\n",
       "      <th>3</th>\n",
       "      <td>106</td>\n",
       "      <td>4.5</td>\n",
       "    </tr>\n",
       "    <tr>\n",
       "      <th>4</th>\n",
       "      <td>85</td>\n",
       "      <td>2.0</td>\n",
       "    </tr>\n",
       "    <tr>\n",
       "      <th>5</th>\n",
       "      <td>110</td>\n",
       "      <td>1.0</td>\n",
       "    </tr>\n",
       "    <tr>\n",
       "      <th>6</th>\n",
       "      <td>80</td>\n",
       "      <td>-2.0</td>\n",
       "    </tr>\n",
       "    <tr>\n",
       "      <th>7</th>\n",
       "      <td>120</td>\n",
       "      <td>-3.0</td>\n",
       "    </tr>\n",
       "  </tbody>\n",
       "</table>\n",
       "</div>"
      ],
      "text/plain": [
       "     x    y\n",
       "1   40 -2.0\n",
       "2   50  2.0\n",
       "3  106  4.5\n",
       "4   85  2.0\n",
       "5  110  1.0\n",
       "6   80 -2.0\n",
       "7  120 -3.0"
      ]
     },
     "execution_count": 11,
     "metadata": {},
     "output_type": "execute_result"
    }
   ],
   "source": [
    "# считаем данные в DataFrame\n",
    "data_test = pd.read_csv('lab3Test.csv', index_col=0)\n",
    "data_test.head(7)"
   ]
  },
  {
   "cell_type": "code",
   "execution_count": 12,
   "id": "2087fbf7",
   "metadata": {},
   "outputs": [
    {
     "data": {
      "image/png": "[encoded data removed]",
      "text/plain": [
       "<Figure size 432x288 with 1 Axes>"
      ]
     },
     "metadata": {
      "needs_background": "light"
     },
     "output_type": "display_data"
    }
   ],
   "source": [
    "#параметр scatter для графиков рассеяния\n",
    "data_test.plot(kind='scatter', x='x', y='y')\n",
    "plt.show()"
   ]
  },
  {
   "cell_type": "code",
   "execution_count": 13,
   "id": "3fe4adf9",
   "metadata": {},
   "outputs": [
    {
     "data": {
      "text/html": [
       "<div>\n",
       "<style scoped>\n",
       "    .dataframe tbody tr th:only-of-type {\n",
       "        vertical-align: middle;\n",
       "    }\n",
       "\n",
       "    .dataframe tbody tr th {\n",
       "        vertical-align: top;\n",
       "    }\n",
       "\n",
       "    .dataframe thead th {\n",
       "        text-align: right;\n",
       "    }\n",
       "</style>\n",
       "<table border=\"1\" class=\"dataframe\">\n",
       "  <thead>\n",
       "    <tr style=\"text-align: right;\">\n",
       "      <th></th>\n",
       "      <th>x</th>\n",
       "      <th>y</th>\n",
       "      <th>Answer</th>\n",
       "    </tr>\n",
       "  </thead>\n",
       "  <tbody>\n",
       "    <tr>\n",
       "      <th>1</th>\n",
       "      <td>40</td>\n",
       "      <td>-2.0</td>\n",
       "      <td>0</td>\n",
       "    </tr>\n",
       "    <tr>\n",
       "      <th>2</th>\n",
       "      <td>50</td>\n",
       "      <td>2.0</td>\n",
       "      <td>0</td>\n",
       "    </tr>\n",
       "    <tr>\n",
       "      <th>3</th>\n",
       "      <td>106</td>\n",
       "      <td>4.5</td>\n",
       "      <td>1</td>\n",
       "    </tr>\n",
       "    <tr>\n",
       "      <th>4</th>\n",
       "      <td>85</td>\n",
       "      <td>2.0</td>\n",
       "      <td>1</td>\n",
       "    </tr>\n",
       "    <tr>\n",
       "      <th>5</th>\n",
       "      <td>110</td>\n",
       "      <td>1.0</td>\n",
       "      <td>1</td>\n",
       "    </tr>\n",
       "    <tr>\n",
       "      <th>6</th>\n",
       "      <td>80</td>\n",
       "      <td>-2.0</td>\n",
       "      <td>1</td>\n",
       "    </tr>\n",
       "    <tr>\n",
       "      <th>7</th>\n",
       "      <td>120</td>\n",
       "      <td>-3.0</td>\n",
       "      <td>1</td>\n",
       "    </tr>\n",
       "  </tbody>\n",
       "</table>\n",
       "</div>"
      ],
      "text/plain": [
       "     x    y  Answer\n",
       "1   40 -2.0       0\n",
       "2   50  2.0       0\n",
       "3  106  4.5       1\n",
       "4   85  2.0       1\n",
       "5  110  1.0       1\n",
       "6   80 -2.0       1\n",
       "7  120 -3.0       1"
      ]
     },
     "execution_count": 13,
     "metadata": {},
     "output_type": "execute_result"
    }
   ],
   "source": [
    "x_test = data_test['x'].tolist()\n",
    "y_test = data_test['y'].tolist()\n",
    "answers_test = []\n",
    "for point_x, point_y in zip(x_test,y_test):\n",
    "    euclidean_dist = []\n",
    "    for cent_x, cent_y in zip(C_x,C_y):  \n",
    "        dist = ((cent_x - point_x) ** 2 + (cent_y - point_y) ** 2) ** (1/2)\n",
    "        euclidean_dist.append(dist) \n",
    "    answers_test.append(np.argmin(euclidean_dist))\n",
    "data_test.insert(len(data_test.columns), \"Answer\", answers_test, False)\n",
    "data_test.head(7)"
   ]
  },
  {
   "cell_type": "code",
   "execution_count": 14,
   "id": "b2ecf6fc",
   "metadata": {},
   "outputs": [
    {
     "data": {
      "image/png": "[encoded data removed]",
      "text/plain": [
       "<Figure size 432x288 with 1 Axes>"
      ]
     },
     "metadata": {
      "needs_background": "light"
     },
     "output_type": "display_data"
    }
   ],
   "source": [
    "for i in range(2):\n",
    "    X = data.loc[data['Answer'] == i]['x'].tolist()\n",
    "    Y = data.loc[data['Answer'] == i]['y'].tolist()\n",
    "    X += data_test.loc[data_test['Answer'] == i]['x'].tolist()\n",
    "    Y += data_test.loc[data_test['Answer'] == i]['y'].tolist()\n",
    "    plt.plot(C_x[i],C_y[i],'o')\n",
    "    plt.plot(X,Y, 'o')\n",
    "plt.show()"
   ]
  },
  {
   "cell_type": "code",
   "execution_count": null,
   "id": "e047be47",
   "metadata": {},
   "outputs": [],
   "source": []
  }
 ],
 "metadata": {
  "kernelspec": {
   "display_name": "Python 3 (ipykernel)",
   "language": "python",
   "name": "python3"
  },
  "language_info": {
   "codemirror_mode": {
    "name": "ipython",
    "version": 3
   },
   "file_extension": ".py",
   "mimetype": "text/x-python",
   "name": "python",
   "nbconvert_exporter": "python",
   "pygments_lexer": "ipython3",
   "version": "3.9.7"
  }
 },
 "nbformat": 4,
 "nbformat_minor": 5
}
