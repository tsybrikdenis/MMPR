{
 "cells": [
  {
   "cell_type": "markdown",
   "id": "fa85fdb6",
   "metadata": {},
   "source": [
    "# K-means кластеризация"
   ]
  },
  {
   "cell_type": "markdown",
   "id": "faa97c93",
   "metadata": {},
   "source": [
    "### Описание алгоритма \n",
    "1. Arbitrarily choose an initial $k$ centers $C=\\{c_1, c_2,···, c_k\\}$.\n",
    "2. For each $i \\in \\{1, . . . , k\\}$, set the cluster $C_i$ to be the set of points in $X$ that are closer to $c_i$ than they are to $c_j$ for all $j\\neq i$.\n",
    "3. For each $i \\in \\{1, . . . , k\\}$, set $c_i$ to be the center of mass of all points in $C_i: c_i=\\frac{1}{|C_i|} \\sum_{x \\in C_i}{x}$.\n",
    "4. Repeat Steps 2 and 3 until $C$ no longer changes."
   ]
  },
  {
   "cell_type": "markdown",
   "id": "59825602",
   "metadata": {},
   "source": [
    "### Импортируем нужные библиотеки\n",
    "Pandas - для удобной работы с данными, matplotlib - для визуализации, numpy - для математики"
   ]
  },
  {
   "cell_type": "code",
   "execution_count": 1,
   "id": "25196bfa",
   "metadata": {},
   "outputs": [],
   "source": [
    "import pandas as pd\n",
    "import numpy as np\n",
    "import random\n",
    "import pylab as pl\n",
    "import matplotlib.pyplot as plt"
   ]
  },
  {
   "cell_type": "markdown",
   "id": "492e68fa",
   "metadata": {},
   "source": [
    "### Cчитаем данные в DataFrame"
   ]
  },
  {
   "cell_type": "code",
   "execution_count": 2,
   "id": "2966f903",
   "metadata": {},
   "outputs": [
    {
     "data": {
      "text/html": [
       "<div>\n",
       "<style scoped>\n",
       "    .dataframe tbody tr th:only-of-type {\n",
       "        vertical-align: middle;\n",
       "    }\n",
       "\n",
       "    .dataframe tbody tr th {\n",
       "        vertical-align: top;\n",
       "    }\n",
       "\n",
       "    .dataframe thead th {\n",
       "        text-align: right;\n",
       "    }\n",
       "</style>\n",
       "<table border=\"1\" class=\"dataframe\">\n",
       "  <thead>\n",
       "    <tr style=\"text-align: right;\">\n",
       "      <th></th>\n",
       "      <th>x</th>\n",
       "      <th>y</th>\n",
       "    </tr>\n",
       "  </thead>\n",
       "  <tbody>\n",
       "    <tr>\n",
       "      <th>1422</th>\n",
       "      <td>-1.873317</td>\n",
       "      <td>8.013264</td>\n",
       "    </tr>\n",
       "    <tr>\n",
       "      <th>1262</th>\n",
       "      <td>-2.641019</td>\n",
       "      <td>7.707003</td>\n",
       "    </tr>\n",
       "    <tr>\n",
       "      <th>2828</th>\n",
       "      <td>1.255668</td>\n",
       "      <td>3.382041</td>\n",
       "    </tr>\n",
       "    <tr>\n",
       "      <th>1170</th>\n",
       "      <td>-1.347903</td>\n",
       "      <td>3.052753</td>\n",
       "    </tr>\n",
       "    <tr>\n",
       "      <th>1932</th>\n",
       "      <td>1.741720</td>\n",
       "      <td>0.713385</td>\n",
       "    </tr>\n",
       "    <tr>\n",
       "      <th>596</th>\n",
       "      <td>1.834206</td>\n",
       "      <td>1.190935</td>\n",
       "    </tr>\n",
       "    <tr>\n",
       "      <th>3162</th>\n",
       "      <td>0.744148</td>\n",
       "      <td>3.997612</td>\n",
       "    </tr>\n",
       "    <tr>\n",
       "      <th>1283</th>\n",
       "      <td>-0.583173</td>\n",
       "      <td>7.618879</td>\n",
       "    </tr>\n",
       "    <tr>\n",
       "      <th>853</th>\n",
       "      <td>-0.055106</td>\n",
       "      <td>1.793702</td>\n",
       "    </tr>\n",
       "    <tr>\n",
       "      <th>2323</th>\n",
       "      <td>-1.434062</td>\n",
       "      <td>2.391165</td>\n",
       "    </tr>\n",
       "  </tbody>\n",
       "</table>\n",
       "</div>"
      ],
      "text/plain": [
       "             x         y\n",
       "1422 -1.873317  8.013264\n",
       "1262 -2.641019  7.707003\n",
       "2828  1.255668  3.382041\n",
       "1170 -1.347903  3.052753\n",
       "1932  1.741720  0.713385\n",
       "596   1.834206  1.190935\n",
       "3162  0.744148  3.997612\n",
       "1283 -0.583173  7.618879\n",
       "853  -0.055106  1.793702\n",
       "2323 -1.434062  2.391165"
      ]
     },
     "execution_count": 2,
     "metadata": {},
     "output_type": "execute_result"
    }
   ],
   "source": [
    "data = pd.read_csv('4ClustersTest.csv', index_col=0)\n",
    "#вывести пять случайных строк таблицы\n",
    "data.sample(10)"
   ]
  },
  {
   "cell_type": "code",
   "execution_count": 3,
   "id": "7d5ecf2b",
   "metadata": {},
   "outputs": [],
   "source": [
    "dataset = [(float(data['x'][i]), float(data['y'][i])) for i in range(1,len(data.index)+1)]"
   ]
  },
  {
   "cell_type": "markdown",
   "id": "ccd6b597",
   "metadata": {},
   "source": [
    "### K-means++ \n",
    "Суть улучшения заключается в нахождении более «хороших» начальных значений центроидов кластеров:\n",
    "1. Выбрать первый центроид случайным образом (среди всех точек)\n",
    "2. Для каждой точки найти значение квадрата расстояния до ближайшего центроида (из тех, которые уже выбраны) dx²\n",
    "3. Выбрать из этих точек следующий центроид так, чтобы вероятность выбора точки была пропорциональна вычисленному для неё квадрату расстояния. Это можно сделать следующим образом. На шаге 2 нужно параллельно с расчётом dx² подсчитывать сумму Sum(dx²). После накопления суммы найти значение Rnd=random(0.0,1.0)*Sum. Rnd случайным образом укажет на число из интервала [0; Sum), и нам остаётся только определить, какой точке это соответствует. Для этого нужно снова начать подсчитывать сумму S(dx²) до тех пор, пока сумма не превысит Rnd. Как только это случится, суммирование останавливается, и мы можем взять текущую точку в качестве центроида.\n",
    "При выборе каждого следующего центроида специально следить за тем, чтобы он не совпал с одной из уже выбранных в качестве центроидов точек, не нужно, так как вероятность повторного выбора некоторой точки равна 0.\n",
    "4. Повторять шаги 2 и 3 до тех пор, пока не будут найдены все необходимые центроиды."
   ]
  },
  {
   "cell_type": "code",
   "execution_count": 4,
   "id": "3642cefc",
   "metadata": {},
   "outputs": [],
   "source": [
    "# Функция для нахождения центроид по алгоритму k-means++\n",
    "def plusplus(data, k): \n",
    "#     выбираем первый центроид случайным образом из всех точек\n",
    "    random_index = random.randint(0, len(data) - 1)\n",
    "#     инициализируем список c для хранения центроид \n",
    "    c = []\n",
    "    c.append(data[random_index])\n",
    "#     до тех пора, пока не будут найдены все необходимые центроиды\n",
    "#     поскольку одна центроида - случайная, нужно найти ещё (k-1) центроиду\n",
    "    while (k-1) > 0: \n",
    "        dx2 = []\n",
    "#         для всех точек в датасете\n",
    "        for point in data:\n",
    "#             инициализируем список для хранения квадратов расстояний от i-й точки до всех центроид\n",
    "            euclidean_dist = []\n",
    "            for cent in c:\n",
    "#                 считаем квадрат евклидова расстояния \n",
    "                dist = (cent[0] - point[0]) ** 2 + (cent[1] - point[1])**2\n",
    "                euclidean_dist.append(dist)\n",
    "#             в список расстояний добавляем расстояние до ближайшей центроиды\n",
    "            dx2.append(min(euclidean_dist))\n",
    "#         находим сумму расстояний\n",
    "        Sum = np.sum(dx2)\n",
    "#         случайное число из интервала [0;Sum)\n",
    "        Rnd = random.random()*Sum\n",
    "        Sum_new = -1\n",
    "#         пересчитываем сумму расстояний\n",
    "        for i in range(len(dx2)):\n",
    "#             до тех пор, пока не превысит найденное случайное число\n",
    "            if Sum_new <= Rnd:\n",
    "                Sum_new += dx2[i]\n",
    "            else: \n",
    "#                 когда превысит - берем текущую точку в качестве следующего центроида\n",
    "                c.append(data[i])\n",
    "                break \n",
    "        k -= 1\n",
    "    return c"
   ]
  },
  {
   "cell_type": "code",
   "execution_count": 5,
   "id": "625cc74c",
   "metadata": {},
   "outputs": [],
   "source": [
    "# Функция для нахождения центроид - двух случайных точек из выборки\n",
    "def rand_cent(data, k): \n",
    "    c = []\n",
    "    for _ in range(k):\n",
    "        random_index = random.randint(0, len(data) - 1)\n",
    "        c.append(data[random_index])\n",
    "        data.pop(random_index)\n",
    "    return c"
   ]
  },
  {
   "cell_type": "markdown",
   "id": "e1eab6ab",
   "metadata": {},
   "source": [
    "### Реализация K-Means Clustering  "
   ]
  },
  {
   "cell_type": "code",
   "execution_count": 6,
   "id": "a58df01c",
   "metadata": {},
   "outputs": [],
   "source": [
    "# На вход принимаем данные из датасета, функцию для начальных значений центроид и число кластеров\n",
    "def k_means_clustering (data, initial, k):\n",
    "    c_old = []\n",
    "    c = initial(data,k)\n",
    "#     пока центроиды отличаются\n",
    "    while c != c_old: \n",
    "        c_old = c\n",
    "        answers = []\n",
    "#         проходимся по точкам и считаем евклидово расстояние\n",
    "        for point in data:\n",
    "            euclidean_dist = []\n",
    "            for cent in c:  \n",
    "                dist = ((cent[0] - point[0]) ** 2 + (cent[1] - point[1]) ** 2) ** (1/2)\n",
    "                euclidean_dist.append(dist) \n",
    "#             В столбец ответов записываем индекс массива - с расстояниями от точки до центроид\n",
    "#             с наименьшим значением расстояния. Это будет названием класса для точки. \n",
    "            answers.append(np.argmin(euclidean_dist))\n",
    "#         обновляем значение центроид\n",
    "        c = []\n",
    "#         проходим по классам\n",
    "        for i in range(k): \n",
    "            sum = [0,0]  \n",
    "#             пробегаем по строкам с точками\n",
    "            for j in range(len(answers)): \n",
    "#                 если значение из класса, который мы сейчас рассматриваем - прибавляем к сумме\n",
    "                if answers[j] == i: \n",
    "                    sum[0] += data[j][0] \n",
    "                    sum[1] += data[j][1]\n",
    "#             находим итоговое значение новых центроид\n",
    "            c.append([1/answers.count(i)*sum[0],1/answers.count(i)*sum[1]])\n",
    "    return c, answers          "
   ]
  },
  {
   "cell_type": "code",
   "execution_count": 7,
   "id": "9806ba95",
   "metadata": {},
   "outputs": [],
   "source": [
    "def plot(data, cent, ans):\n",
    "    color_Value = ['y', 'g', 'b', 'c', 'k', 'm']\n",
    "    for cluster_index in range(len(set(ans))):\n",
    "        coordinate_X = []    \n",
    "        coordinate_Y = []\n",
    "        for i in range(len(ans)): \n",
    "            if ans[i] == cluster_index:\n",
    "                coordinate_X.append(data[i][0])\n",
    "                coordinate_Y.append(data[i][1])\n",
    "        pl.scatter(coordinate_X, coordinate_Y, marker='o', color=color_Value[cluster_index%len(color_Value)])\n",
    "        pl.plot(cent[cluster_index][0],cent[cluster_index][1],marker='o',color = 'r')\n",
    "    pl.show()"
   ]
  },
  {
   "cell_type": "code",
   "execution_count": 8,
   "id": "e12f2475",
   "metadata": {},
   "outputs": [
    {
     "data": {
      "image/png": "[encoded data removed]",
      "text/plain": [
       "<Figure size 432x288 with 1 Axes>"
      ]
     },
     "metadata": {
      "needs_background": "light"
     },
     "output_type": "display_data"
    }
   ],
   "source": [
    "# centroids, answer = k_means_clustering(dataset,plusplus,2)\n",
    "centroids, answer = k_means_clustering(dataset,rand_cent,8)\n",
    "plot(dataset,centroids, answer)"
   ]
  },
  {
   "cell_type": "code",
   "execution_count": null,
   "id": "4ff8d874",
   "metadata": {},
   "outputs": [],
   "source": []
  }
 ],
 "metadata": {
  "kernelspec": {
   "display_name": "Python 3 (ipykernel)",
   "language": "python",
   "name": "python3"
  },
  "language_info": {
   "codemirror_mode": {
    "name": "ipython",
    "version": 3
   },
   "file_extension": ".py",
   "mimetype": "text/x-python",
   "name": "python",
   "nbconvert_exporter": "python",
   "pygments_lexer": "ipython3",
   "version": "3.9.7"
  }
 },
 "nbformat": 4,
 "nbformat_minor": 5
}
