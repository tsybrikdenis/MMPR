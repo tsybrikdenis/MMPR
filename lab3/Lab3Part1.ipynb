{
 "cells": [
  {
   "cell_type": "markdown",
   "id": "2a7dbbbc",
   "metadata": {},
   "source": [
    "# Агломеративная иерархическая кластеризация "
   ]
  },
  {
   "cell_type": "markdown",
   "id": "bc70749a",
   "metadata": {},
   "source": [
    "### Описание алгоритма\n",
    "1. $C \\leftarrow \\{C_i = \\{x_i\\} | x_i \\in D\\}$ //Каждая точка в отдельном кластере\n",
    "2. $\\Delta \\leftarrow \\{d(x_i,x_j): x_i, x_j \\in D\\}$ //Вычислить матрицу расстояний\n",
    "3. повторить \n",
    "    - Найти ближайшую пару кластеров $C_i,C_j \\in C$\n",
    "    - $ C_{ij} \\leftarrow C_i \\cup C_j$// Объединение кластеров\n",
    "    - $ C \\leftarrow \\{C_i\\} \\cup \\{C_j\\} \\cup \\{C_{ij}\\}$\n",
    "    - Обновить матрицу расстояния $\\Delta$, чтобы провести новую кластеризацию до $|C| = k$"
   ]
  },
  {
   "cell_type": "markdown",
   "id": "25ea493e",
   "metadata": {},
   "source": [
    "### Импортируем нужные библиотеки\n",
    "Pandas - для удобной работы с данными, matplotlib - для визуализации, numpy - для математики, pylab - для кластерной фиуализации"
   ]
  },
  {
   "cell_type": "code",
   "execution_count": 1,
   "id": "e71adf8b",
   "metadata": {},
   "outputs": [],
   "source": [
    "import pandas as pd\n",
    "import matplotlib.pyplot as plt\n",
    "import pylab as pl "
   ]
  },
  {
   "cell_type": "markdown",
   "id": "a70a87c3",
   "metadata": {},
   "source": [
    "### Считаем данные в DataFrame"
   ]
  },
  {
   "cell_type": "code",
   "execution_count": 2,
   "id": "7918adbe",
   "metadata": {},
   "outputs": [
    {
     "data": {
      "text/html": [
       "<div>\n",
       "<style scoped>\n",
       "    .dataframe tbody tr th:only-of-type {\n",
       "        vertical-align: middle;\n",
       "    }\n",
       "\n",
       "    .dataframe tbody tr th {\n",
       "        vertical-align: top;\n",
       "    }\n",
       "\n",
       "    .dataframe thead th {\n",
       "        text-align: right;\n",
       "    }\n",
       "</style>\n",
       "<table border=\"1\" class=\"dataframe\">\n",
       "  <thead>\n",
       "    <tr style=\"text-align: right;\">\n",
       "      <th></th>\n",
       "      <th>x</th>\n",
       "      <th>y</th>\n",
       "    </tr>\n",
       "  </thead>\n",
       "  <tbody>\n",
       "    <tr>\n",
       "      <th>1</th>\n",
       "      <td>100</td>\n",
       "      <td>5</td>\n",
       "    </tr>\n",
       "    <tr>\n",
       "      <th>2</th>\n",
       "      <td>90</td>\n",
       "      <td>5</td>\n",
       "    </tr>\n",
       "    <tr>\n",
       "      <th>3</th>\n",
       "      <td>110</td>\n",
       "      <td>5</td>\n",
       "    </tr>\n",
       "    <tr>\n",
       "      <th>4</th>\n",
       "      <td>97</td>\n",
       "      <td>4</td>\n",
       "    </tr>\n",
       "    <tr>\n",
       "      <th>5</th>\n",
       "      <td>102</td>\n",
       "      <td>4</td>\n",
       "    </tr>\n",
       "    <tr>\n",
       "      <th>6</th>\n",
       "      <td>112</td>\n",
       "      <td>4</td>\n",
       "    </tr>\n",
       "    <tr>\n",
       "      <th>7</th>\n",
       "      <td>92</td>\n",
       "      <td>4</td>\n",
       "    </tr>\n",
       "    <tr>\n",
       "      <th>8</th>\n",
       "      <td>95</td>\n",
       "      <td>3</td>\n",
       "    </tr>\n",
       "    <tr>\n",
       "      <th>9</th>\n",
       "      <td>90</td>\n",
       "      <td>3</td>\n",
       "    </tr>\n",
       "    <tr>\n",
       "      <th>10</th>\n",
       "      <td>100</td>\n",
       "      <td>3</td>\n",
       "    </tr>\n",
       "  </tbody>\n",
       "</table>\n",
       "</div>"
      ],
      "text/plain": [
       "      x  y\n",
       "1   100  5\n",
       "2    90  5\n",
       "3   110  5\n",
       "4    97  4\n",
       "5   102  4\n",
       "6   112  4\n",
       "7    92  4\n",
       "8    95  3\n",
       "9    90  3\n",
       "10  100  3"
      ]
     },
     "execution_count": 2,
     "metadata": {},
     "output_type": "execute_result"
    }
   ],
   "source": [
    "data = pd.read_csv('Lab3Train.csv', index_col=0)\n",
    "#вывести пять случайных строк таблицы\n",
    "data.head(10)"
   ]
  },
  {
   "cell_type": "code",
   "execution_count": 3,
   "id": "a3f97942",
   "metadata": {},
   "outputs": [
    {
     "data": {
      "image/png": "[encoded data removed]",
      "text/plain": [
       "<Figure size 432x288 with 1 Axes>"
      ]
     },
     "metadata": {
      "needs_background": "light"
     },
     "output_type": "display_data"
    }
   ],
   "source": [
    "#параметр scatter для графиков рассеяния\n",
    "data.plot(kind='scatter', x='x', y='y')\n",
    "plt.show()"
   ]
  },
  {
   "cell_type": "code",
   "execution_count": 4,
   "id": "e197ca1d",
   "metadata": {},
   "outputs": [],
   "source": [
    "dataset = [(float(data['x'][i]), float(data['y'][i])) for i in range(1,len(data.index)+1)]"
   ]
  },
  {
   "cell_type": "markdown",
   "id": "38033c59",
   "metadata": {},
   "source": [
    "### Определим функцию для подсчета расстояния между двумя точками\n",
    "Функция будет считать расстояние между двумя точками $(a_1, b_1)$ и $(a_2, b_2)$ используя Евлидову метрику\n",
    "$$ \\sqrt{(a_1-a_2)^2+(b_1-b_2)^2}$$"
   ]
  },
  {
   "cell_type": "code",
   "execution_count": 5,
   "id": "4579d2d0",
   "metadata": {},
   "outputs": [],
   "source": [
    "def distance(x, y):\n",
    "     return ((x[0]-y[0])**2+(x[1]-y[1])**2)**(1/2)"
   ]
  },
  {
   "cell_type": "markdown",
   "id": "a1a792b4",
   "metadata": {},
   "source": [
    "Следующие ячейки определяют функции для вычисления расстояния/близости между двумя класстерами разными способами. "
   ]
  },
  {
   "cell_type": "code",
   "execution_count": 6,
   "id": "c0ff3c49",
   "metadata": {},
   "outputs": [],
   "source": [
    "def min_distance(Ci, Cj):\n",
    "    return min(distance(i, j) for i in Ci for j in Cj) "
   ]
  },
  {
   "cell_type": "markdown",
   "id": "646b9f68",
   "metadata": {},
   "source": [
    "Минимальное рассстояние между кластерами $C_i$ и $C_j$ считается как:\n",
    "$$min\\_distance(C_i, C_j)=min(x \\in C_i, y \\in C_j)[distance(x,y)] $$"
   ]
  },
  {
   "cell_type": "code",
   "execution_count": 7,
   "id": "84e09af3",
   "metadata": {},
   "outputs": [],
   "source": [
    "def max_distance(Ci, Cj):\n",
    "      return max(distance(i, j) for i in Ci for j in Cj)"
   ]
  },
  {
   "cell_type": "markdown",
   "id": "466eace7",
   "metadata": {},
   "source": [
    "Максимальное рассстояние между кластерами $C_i$ и $C_j$ считается как:\n",
    "$$max\\_distance(C_i, C_j)=max(x \\in C_i, y \\in C_j)[distance(x,y)] $$"
   ]
  },
  {
   "cell_type": "code",
   "execution_count": 8,
   "id": "b78ae265",
   "metadata": {},
   "outputs": [],
   "source": [
    "def avg_distance(Ci, Cj):\n",
    "      return sum(distance(i, j) for i in Ci for j in Cj)/(len(Ci)*len(Cj)) "
   ]
  },
  {
   "cell_type": "markdown",
   "id": "59c6af2c",
   "metadata": {},
   "source": [
    "Среднее рассстояние между кластерами $C_i$ и $C_j$ считается как:\n",
    "$$avg\\_distance(C_i, C_j)= \\frac{1}{|C_i||C_j|} \\sum_{x \\in C_i} \\sum_{y \\in C_j}[distance(x,y)]$$"
   ]
  },
  {
   "cell_type": "markdown",
   "id": "3ea31f3d",
   "metadata": {},
   "source": [
    "Define a function to calculate minimum distance between two clusters."
   ]
  },
  {
   "cell_type": "code",
   "execution_count": 9,
   "id": "2c33ac1f",
   "metadata": {},
   "outputs": [],
   "source": [
    "def minimum(A):\n",
    "    min = 1000\n",
    "    a = 0; b = 0 \n",
    "    for x in range(len(A)):\n",
    "        for y in range(len(A[x])):\n",
    "            if x != y and A[x][y] < min:\n",
    "                min = A[x][y];a = x; b = y\n",
    "    return (a, b, min) "
   ]
  },
  {
   "cell_type": "markdown",
   "id": "281399bc",
   "metadata": {},
   "source": [
    "### Функция для формирования кластеров"
   ]
  },
  {
   "cell_type": "code",
   "execution_count": 12,
   "id": "f6a280b7",
   "metadata": {},
   "outputs": [],
   "source": [
    "def aglomerative_clasterisation(ds, distance, k):\n",
    "#     инициализируем два пустых списка для хранения кластеров (список С)\n",
    "#     и расстояний между кластерами (список M). Расстояние зависит от\n",
    "#     метода, который подан на вход \n",
    "    C = [];M = []\n",
    "#     для каждой точки в датасете\n",
    "    for i in ds: \n",
    "        Ci = []\n",
    "#         добавляем точку i в i-й кластер \n",
    "        Ci.append(i) \n",
    "#         добавляем i-й кластер в список кластеров С\n",
    "        C.append(Ci)\n",
    "#     для всех точек в спсике кластеров\n",
    "    for i in C:\n",
    "#         инициализируем список для точки i \n",
    "        Mi = []\n",
    "#         для всех точек j в кластере С (включая саму себя)\n",
    "        for j in C:\n",
    "#             считаем расстояние от точки i до всех \n",
    "#             точек j и добавляем в список\n",
    "            Mi.append(distance(i, j))\n",
    "#         добавляем расстояние для каждой точки i в список M\n",
    "        M.append(Mi)\n",
    "#     переменная q - записывает количество кластеров, сформированных\n",
    "#     в любой момент врмени. q - инициализируется как длина набора данных \n",
    "#     потому что изначально мы считаем, что каждая точка в отдельном кластере\n",
    "#     когда мы объединяем кластеры - значение q уменьшается\n",
    "    q = len(ds)\n",
    "#     объединяем кластеры до тех пор, пока q не станет равным k \n",
    "    while q > k:\n",
    "#         находим кластеры с минимальм расстоянием\n",
    "        x, y, min = minimum(M)\n",
    "#         добавляем кластер C[y] в кластерную группу C[x] (объединяем)\n",
    "        C[x].extend(C[y])\n",
    "#         удаляем класте C[y] из списка кластеров\n",
    "        C.remove(C[y])\n",
    "#         пересчитываем расстояния\n",
    "        M = []\n",
    "        for i in C:\n",
    "            Mi = []\n",
    "            for j in C:\n",
    "                Mi.append(distance(i, j))\n",
    "            M.append(Mi)\n",
    "        q -= 1\n",
    "#     Возвращаем список кластеро\n",
    "    return C\n",
    "\n",
    "def plot(C):\n",
    "    color_Value = ['r', 'y', 'g', 'b', 'c', 'k', 'm']\n",
    "#     для каждого кластера в списке кластеров\n",
    "    for i in range(len(C)):\n",
    "        coordinate_X = []    \n",
    "        coordinate_Y = []    \n",
    "        for j in range(len(C[i])):\n",
    "            coordinate_X.append(C[i][j][0])\n",
    "            coordinate_Y.append(C[i][j][1])\n",
    "        pl.scatter(coordinate_X, coordinate_Y, marker='o', color=color_Value[i%len(color_Value)])\n",
    "\n",
    "#     pl.legend(loc='upper right')\n",
    "    pl.show()"
   ]
  },
  {
   "cell_type": "code",
   "execution_count": 20,
   "id": "ea9d6e1d",
   "metadata": {},
   "outputs": [
    {
     "data": {
      "image/png": "[encoded data removed]",
      "text/plain": [
       "<Figure size 432x288 with 1 Axes>"
      ]
     },
     "metadata": {
      "needs_background": "light"
     },
     "output_type": "display_data"
    }
   ],
   "source": [
    "C = aglomerative_clasterisation(dataset,max_distance, 10)\n",
    "plot(C)"
   ]
  },
  {
   "cell_type": "code",
   "execution_count": null,
   "id": "65a47cb7",
   "metadata": {},
   "outputs": [],
   "source": []
  }
 ],
 "metadata": {
  "kernelspec": {
   "display_name": "Python 3 (ipykernel)",
   "language": "python",
   "name": "python3"
  },
  "language_info": {
   "codemirror_mode": {
    "name": "ipython",
    "version": 3
   },
   "file_extension": ".py",
   "mimetype": "text/x-python",
   "name": "python",
   "nbconvert_exporter": "python",
   "pygments_lexer": "ipython3",
   "version": "3.9.7"
  }
 },
 "nbformat": 4,
 "nbformat_minor": 5
}
