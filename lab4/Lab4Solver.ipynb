{
 "cells": [
  {
   "cell_type": "code",
   "execution_count": 1,
   "id": "e0a0541f",
   "metadata": {},
   "outputs": [],
   "source": [
    "import pandas as pd\n",
    "import numpy as np\n",
    "import random"
   ]
  },
  {
   "cell_type": "code",
   "execution_count": 2,
   "id": "2aec461a",
   "metadata": {},
   "outputs": [],
   "source": [
    "#число хромосом в популяции \n",
    "K = 50"
   ]
  },
  {
   "cell_type": "code",
   "execution_count": 3,
   "id": "026e828c",
   "metadata": {},
   "outputs": [],
   "source": [
    "# функция выживаемости\n",
    "def fitness_func(chromosome): \n",
    "    if np.abs(chromosome[0] + 2 * chromosome[1] + 3 * chromosome[2] + 4 * chromosome[3] - 30) == 0: \n",
    "        return -1\n",
    "    else: \n",
    "        return 1/np.abs(chromosome[0] + 2 * chromosome[1] + 3 * chromosome[2] + 4 * chromosome[3] - 30)"
   ]
  },
  {
   "cell_type": "code",
   "execution_count": 4,
   "id": "b73b91f9",
   "metadata": {},
   "outputs": [],
   "source": [
    "# функция нахождения пар мама-папа\n",
    "def find_parents(data, probabilities):\n",
    "    #список для хранения индексов массива, np.random.choice на вход принимает 1-D массив, поэтому \n",
    "    #будем случайно выбирать не саму строку массива, а индекс\n",
    "    index_list = np.arange(len(data))\n",
    "    #список для хранения индекса мамы и папы\n",
    "    parents = [] \n",
    "    parents_count = 0 \n",
    "    while parents_count < K: \n",
    "        mother = np.random.choice(index_list, 1, p=probabilities)[0]\n",
    "        father = np.random.choice(index_list, 1, p=probabilities)[0]\n",
    "        if mother != father and not [mother,father] in parents: \n",
    "            parents.append([mother,father])\n",
    "            parents_count += 1\n",
    "    return parents  "
   ]
  },
  {
   "cell_type": "code",
   "execution_count": 11,
   "id": "31cd83cd",
   "metadata": {},
   "outputs": [],
   "source": [
    "#функция скрещивания\n",
    "def breeding_function (data, parents):\n",
    "    descendants = np.empty((0,4), int)\n",
    "    splitting_point = 0 \n",
    "    for couples in parents:\n",
    "        descedand = []\n",
    "        if splitting_point == 4: \n",
    "            splitting_point = 0\n",
    "        splitting_point += 1\n",
    "        descendant = np.concatenate((data[couples[0]][:splitting_point], data[couples[1]][splitting_point:]), axis=0)\n",
    "        descendants = np.append(descendants,np.array([descendant]),axis = 0)\n",
    "    descendants_fitness = [fitness_func(chromosome) for chromosome in descendants]\n",
    "    return descendants, descendants_fitness"
   ]
  },
  {
   "cell_type": "code",
   "execution_count": 6,
   "id": "b400c260",
   "metadata": {},
   "outputs": [],
   "source": [
    "#функция мутации\n",
    "def mutation(descendants,descendants_fitness ):\n",
    "    # Находим самого нежизнеспособного потомка\n",
    "    min_descendants_fitness = descendants_fitness[0]\n",
    "    min_descendants_fitness_index = 0\n",
    "    for i in range(1,len(descendants_fitness)): \n",
    "        if descendants_fitness[i] < min_descendants_fitness: \n",
    "            min_descendants_fitness = descendants_fitness[i]\n",
    "            min_descendants_fitness_index = i \n",
    "    mutant = descendants[min_descendants_fitness_index]\n",
    "    # меняем пока коэффициент выживаемости не станет больше\n",
    "    iteration = 0 \n",
    "    while iteration < 100: \n",
    "        mutant_chromosome = np.random.randint(1, 21+1, (1,4))\n",
    "        iteration += 1\n",
    "        if fitness_func(mutant_chromosome[0]) > min_descendants_fitness:\n",
    "            break\n",
    "    descendants = np.delete(descendants, (min_descendants_fitness_index), axis = 0)\n",
    "    descendants_fitness = np.delete(descendants_fitness, min_descendants_fitness_index, 0)\n",
    "    descendants = np.append(descendants, [mutant_chromosome[0]], axis = 0)\n",
    "    descendants_fitness = np.append(descendants_fitness, fitness_func(mutant_chromosome[0]))\n",
    "    return descendants, descendants_fitness"
   ]
  },
  {
   "cell_type": "code",
   "execution_count": 7,
   "id": "56599c71",
   "metadata": {},
   "outputs": [],
   "source": [
    "#функция естественного отбора\n",
    "def find_strongest(data, fitness, descendants, descendants_fitness):\n",
    "    data = np.append(data, descendants, axis = 0)\n",
    "    fitness = np.append(fitness, descendants_fitness, axis = 0)\n",
    "    data_fitness = np.column_stack([data, fitness])\n",
    "    data_fitness = data_fitness[data_fitness[:, data_fitness.shape[1]-1].argsort()][::-1][:K]\n",
    "    return data_fitness[:,:data_fitness.shape[1]-1], data_fitness[:,data_fitness.shape[1]-1]"
   ]
  },
  {
   "cell_type": "code",
   "execution_count": 8,
   "id": "36d77645",
   "metadata": {},
   "outputs": [],
   "source": [
    "#проверка, что решение найдено \n",
    "def solution_exist(data, fitness): \n",
    "    answer = []\n",
    "    for i in range(len(fitness)):\n",
    "        if fitness[i] == -1: \n",
    "            answer.append(data[i])\n",
    "    return answer     "
   ]
  },
  {
   "cell_type": "code",
   "execution_count": 15,
   "id": "a01eb7e5",
   "metadata": {},
   "outputs": [
    {
     "name": "stdout",
     "output_type": "stream",
     "text": [
      "[array([4., 8., 2., 1.]), array([4., 8., 2., 1.])]\n"
     ]
    }
   ],
   "source": [
    "data = np.random.randint(1, 21+1, (K,4))\n",
    "fitness = [fitness_func(chromosome) for chromosome in data]\n",
    "while True: \n",
    "    answer = solution_exist(data, fitness)\n",
    "    if len(answer) != 0: \n",
    "        break \n",
    "    probabilities = [fit/np.sum(fitness) for fit in fitness]\n",
    "    parents = find_parents(data, probabilities)\n",
    "    descendants, descendants_fitness = breeding_function (data, parents)\n",
    "    answer = solution_exist(descendants, descendants_fitness)\n",
    "    if len(answer) != 0: \n",
    "        break \n",
    "    descendants, descendants_fitness = mutation(descendants,descendants_fitness)\n",
    "    answer = solution_exist(descendants, descendants_fitness)\n",
    "    if len(answer) != 0: \n",
    "        break\n",
    "    data,fitness = find_strongest(data, fitness, descendants, descendants_fitness)    \n",
    "print(answer)\n"
   ]
  },
  {
   "cell_type": "code",
   "execution_count": null,
   "id": "464611a2",
   "metadata": {},
   "outputs": [],
   "source": []
  }
 ],
 "metadata": {
  "kernelspec": {
   "display_name": "Python 3 (ipykernel)",
   "language": "python",
   "name": "python3"
  },
  "language_info": {
   "codemirror_mode": {
    "name": "ipython",
    "version": 3
   },
   "file_extension": ".py",
   "mimetype": "text/x-python",
   "name": "python",
   "nbconvert_exporter": "python",
   "pygments_lexer": "ipython3",
   "version": "3.9.7"
  }
 },
 "nbformat": 4,
 "nbformat_minor": 5
}
