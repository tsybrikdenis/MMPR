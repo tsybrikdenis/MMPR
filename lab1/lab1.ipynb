{
 "cells": [
  {
   "cell_type": "markdown",
   "metadata": {},
   "source": [
    "## Классификация на основе нейрона "
   ]
  },
  {
   "cell_type": "markdown",
   "metadata": {},
   "source": [
    "### Импортируем библиотеки"
   ]
  },
  {
   "cell_type": "code",
   "execution_count": 3,
   "metadata": {},
   "outputs": [],
   "source": [
    "import pandas as pd\n",
    "import matplotlib.pyplot as plt\n",
    "import numpy as np"
   ]
  },
  {
   "cell_type": "markdown",
   "metadata": {},
   "source": [
    "Имеются данные о точках:"
   ]
  },
  {
   "cell_type": "code",
   "execution_count": 5,
   "metadata": {},
   "outputs": [
    {
     "data": {
      "text/html": [
       "<div>\n",
       "<style scoped>\n",
       "    .dataframe tbody tr th:only-of-type {\n",
       "        vertical-align: middle;\n",
       "    }\n",
       "\n",
       "    .dataframe tbody tr th {\n",
       "        vertical-align: top;\n",
       "    }\n",
       "\n",
       "    .dataframe thead th {\n",
       "        text-align: right;\n",
       "    }\n",
       "</style>\n",
       "<table border=\"1\" class=\"dataframe\">\n",
       "  <thead>\n",
       "    <tr style=\"text-align: right;\">\n",
       "      <th></th>\n",
       "      <th>x1</th>\n",
       "      <th>x2</th>\n",
       "      <th>answer</th>\n",
       "    </tr>\n",
       "  </thead>\n",
       "  <tbody>\n",
       "    <tr>\n",
       "      <th>1</th>\n",
       "      <td>1.0</td>\n",
       "      <td>1.0</td>\n",
       "      <td>1</td>\n",
       "    </tr>\n",
       "    <tr>\n",
       "      <th>2</th>\n",
       "      <td>9.4</td>\n",
       "      <td>6.4</td>\n",
       "      <td>-1</td>\n",
       "    </tr>\n",
       "    <tr>\n",
       "      <th>3</th>\n",
       "      <td>2.5</td>\n",
       "      <td>2.1</td>\n",
       "      <td>1</td>\n",
       "    </tr>\n",
       "    <tr>\n",
       "      <th>4</th>\n",
       "      <td>8.0</td>\n",
       "      <td>7.7</td>\n",
       "      <td>-1</td>\n",
       "    </tr>\n",
       "    <tr>\n",
       "      <th>5</th>\n",
       "      <td>0.5</td>\n",
       "      <td>2.2</td>\n",
       "      <td>1</td>\n",
       "    </tr>\n",
       "    <tr>\n",
       "      <th>6</th>\n",
       "      <td>7.9</td>\n",
       "      <td>8.4</td>\n",
       "      <td>-1</td>\n",
       "    </tr>\n",
       "    <tr>\n",
       "      <th>7</th>\n",
       "      <td>7.0</td>\n",
       "      <td>7.0</td>\n",
       "      <td>-1</td>\n",
       "    </tr>\n",
       "    <tr>\n",
       "      <th>8</th>\n",
       "      <td>2.8</td>\n",
       "      <td>0.8</td>\n",
       "      <td>1</td>\n",
       "    </tr>\n",
       "    <tr>\n",
       "      <th>9</th>\n",
       "      <td>1.2</td>\n",
       "      <td>3.0</td>\n",
       "      <td>1</td>\n",
       "    </tr>\n",
       "    <tr>\n",
       "      <th>10</th>\n",
       "      <td>7.8</td>\n",
       "      <td>6.1</td>\n",
       "      <td>-1</td>\n",
       "    </tr>\n",
       "  </tbody>\n",
       "</table>\n",
       "</div>"
      ],
      "text/plain": [
       "     x1   x2  answer\n",
       "1   1.0  1.0       1\n",
       "2   9.4  6.4      -1\n",
       "3   2.5  2.1       1\n",
       "4   8.0  7.7      -1\n",
       "5   0.5  2.2       1\n",
       "6   7.9  8.4      -1\n",
       "7   7.0  7.0      -1\n",
       "8   2.8  0.8       1\n",
       "9   1.2  3.0       1\n",
       "10  7.8  6.1      -1"
      ]
     },
     "execution_count": 5,
     "metadata": {},
     "output_type": "execute_result"
    }
   ],
   "source": [
    "# считаем данные в DataFrame\n",
    "data = pd.read_csv('Points.csv', index_col=0)\n",
    "data.head(10)"
   ]
  },
  {
   "cell_type": "markdown",
   "metadata": {},
   "source": [
    "Изобразим данные на графике:"
   ]
  },
  {
   "cell_type": "code",
   "execution_count": 3,
   "metadata": {},
   "outputs": [
    {
     "data": {
      "image/png": "[encoded data removed]",
      "text/plain": [
       "<Figure size 432x288 with 1 Axes>"
      ]
     },
     "metadata": {
      "needs_background": "light"
     },
     "output_type": "display_data"
    }
   ],
   "source": [
    "#параметр scatter для графиков рассеяния\n",
    "data.plot(kind='scatter', x='x1', y='x2')\n",
    "plt.show()"
   ]
  },
  {
   "cell_type": "markdown",
   "metadata": {},
   "source": [
    "Генерируем начальное приближение $ W^0 $ весовых коэффициентов. Для этого берем случайные значения в диапазоне $[0,1]$"
   ]
  },
  {
   "cell_type": "code",
   "execution_count": 4,
   "metadata": {},
   "outputs": [
    {
     "name": "stdout",
     "output_type": "stream",
     "text": [
      "[0.27726667 0.50575513 0.92012083]\n"
     ]
    }
   ],
   "source": [
    "import random\n",
    "w = np.array([random.random() for i in range(3)])\n",
    "print(w)"
   ]
  },
  {
   "cell_type": "markdown",
   "metadata": {},
   "source": [
    "Внутри нейрона cначала значения входов умножаются на **веса**:\n",
    "$$x_1 \\to w_1*x_1, x_2 \\to w_2*x_2 $$\n",
    "Затем взвешенные входы складываются, и к ним прибавляется значение порога b:\n",
    "$$w_1*x_1+w_2*x_2+w_3*1=0$$\n",
    "Выразим из полученного выражения каноническое уравнение прямой $y=k*x+b$:\n",
    "$$x_2=-\\frac{w_1}{w_2}*x_1-\\frac{w_3}{w_2}$$"
   ]
  },
  {
   "cell_type": "code",
   "execution_count": 5,
   "metadata": {},
   "outputs": [
    {
     "name": "stdout",
     "output_type": "stream",
     "text": [
      "   X_1\n",
      "0  0.5\n",
      "1  9.4\n",
      "        X_1\n",
      "0 -2.093413\n",
      "1 -6.972599\n"
     ]
    }
   ],
   "source": [
    "#Выбираем в качестве двух точек, по которым мы будем строить прямую - те, у которых минимальное и максимольное \n",
    "#значение по оси x_1. Далее подставляем эти координаты в уравнение прямой и находим x_2 координату точек\n",
    "X = pd.DataFrame({'X_1': [data.x1.min(), data.x1.max()]})\n",
    "X.head()\n",
    "Y = -w[0]/w[1]*X-w[2]/w[1]\n",
    "print(X)\n",
    "print(Y)"
   ]
  },
  {
   "cell_type": "code",
   "execution_count": 6,
   "metadata": {
    "scrolled": true
   },
   "outputs": [
    {
     "data": {
      "image/png": "[encoded data removed]",
      "text/plain": [
       "<Figure size 432x288 with 1 Axes>"
      ]
     },
     "metadata": {
      "needs_background": "light"
     },
     "output_type": "display_data"
    }
   ],
   "source": [
    "# сначала выводим график обучающей выборки\n",
    "data.plot(kind='scatter', x='x1', y='x2')\n",
    "# потом полученную прямую\n",
    "plt.plot(X, Y, c='red', linewidth=2)\n",
    "plt.show()"
   ]
  },
  {
   "cell_type": "markdown",
   "metadata": {},
   "source": [
    "Находим $f(net)=sign(w_1*x_1+w_2*x_2+w_3*1)$\n",
    "\n",
    "Если $f(net)$ не совпадает с ответом из обучающей выборки - меняем весовые коэффициенты по формуле\n",
    "$$\n",
    "W^t=W^{t-1}+c*(d^{t-1}-sign((W^{t-1})^{T}*X^{t-1}))*X^{t-1},\n",
    "$$\n",
    "где $d^{t-1}$ - ответ из выборки, а $sign((W^{t-1})^{T}*X^{t-1}))$ - ответ сети"
   ]
  },
  {
   "cell_type": "code",
   "execution_count": 7,
   "metadata": {},
   "outputs": [
    {
     "name": "stdout",
     "output_type": "stream",
     "text": [
      "Прогонка № 1\n",
      "Значения совпадают продолжаем\n",
      "Значения не совпадают меняем веса\n",
      "w= [-1.60273333 -0.77424487  0.72012083]\n",
      "Значения не совпадают меняем веса\n",
      "w= [-1.10273333 -0.35424487  0.92012083]\n",
      "Значения совпадают продолжаем\n",
      "Значения не совпадают меняем веса\n",
      "w= [-1.00273333  0.08575513  1.12012083]\n",
      "Значения совпадают продолжаем\n",
      "Значения совпадают продолжаем\n",
      "Значения не совпадают меняем веса\n",
      "w= [-0.44273333  0.24575513  1.32012083]\n",
      "Значения совпадают продолжаем\n",
      "Значения совпадают продолжаем\n",
      "Прогонка № 2\n",
      "Значения совпадают продолжаем\n",
      "Значения совпадают продолжаем\n",
      "Значения совпадают продолжаем\n",
      "Значения совпадают продолжаем\n",
      "Значения совпадают продолжаем\n",
      "Значения совпадают продолжаем\n",
      "Значения совпадают продолжаем\n",
      "Значения совпадают продолжаем\n",
      "Значения совпадают продолжаем\n",
      "Значения совпадают продолжаем\n"
     ]
    }
   ],
   "source": [
    "counter = 1 \n",
    "flag = 1\n",
    "while flag == 1:\n",
    "    flag = 0 \n",
    "    print('Прогонка №', counter)\n",
    "    for i in range(1,len(data.index)+1):\n",
    "        point_coord = np.array([data.loc[i]['x1'],data.loc[i]['x2'],1])\n",
    "        f_net = np.sign(np.dot(w,point_coord))\n",
    "        #print('f(net)=',f_net)\n",
    "        #print('d_',i,'=',data.loc[i]['answer'])\n",
    "        if f_net == data.loc[i]['answer']:\n",
    "            print('Значения совпадают продолжаем')\n",
    "        else:\n",
    "            print('Значения не совпадают меняем веса')\n",
    "            flag = 1\n",
    "            w = w + 0.1 * (data.loc[i]['answer'] - f_net) * point_coord\n",
    "            print('w=',w)\n",
    "    counter += 1"
   ]
  },
  {
   "cell_type": "code",
   "execution_count": 8,
   "metadata": {},
   "outputs": [
    {
     "data": {
      "image/png": "[encoded data removed]",
      "text/plain": [
       "<Figure size 432x288 with 1 Axes>"
      ]
     },
     "metadata": {
      "needs_background": "light"
     },
     "output_type": "display_data"
    }
   ],
   "source": [
    "Y = -(w[0]/w[1])*X-(w[2]/w[1])\n",
    "# сначала выводим график обучающей выборки\n",
    "data.plot(kind='scatter', x='x1', y='x2')\n",
    "# потом полученную прямую\n",
    "plt.plot(X, Y, c='red', linewidth=2)\n",
    "plt.show()"
   ]
  },
  {
   "cell_type": "code",
   "execution_count": 14,
   "metadata": {},
   "outputs": [
    {
     "name": "stdout",
     "output_type": "stream",
     "text": [
      "8 8\n",
      "8.0 8.0\n",
      "-1\n"
     ]
    },
    {
     "data": {
      "image/png": "[encoded data removed]",
      "text/plain": [
       "<Figure size 432x288 with 1 Axes>"
      ]
     },
     "metadata": {
      "needs_background": "light"
     },
     "output_type": "display_data"
    }
   ],
   "source": [
    "# вводим какую-то новую точку\n",
    "x_p, y_p = map(float, input().split())\n",
    "# если выше прямой - класс -1 \n",
    "if (-y_p-(w[0]/w[1])*x_p-(w[2]/w[1])) > 0: \n",
    "    print(\"-1\")\n",
    "# если ниже прямой класс +1 \n",
    "elif (-y_p-(w[0]/w[1])*x_p-(w[2]/w[1])) < 0:\n",
    "    print(\"+1\") \n",
    "# иначе = 0 или другими словами точка на прямой\n",
    "else: \n",
    "    print(\"на прямой\")\n",
    "# сначала выводим график обучающей выборки\n",
    "data.plot(kind='scatter', x='x1', y='x2')\n",
    "# новую точку\n",
    "plt.plot(x_p,y_p, color='black',marker=\"o\")\n",
    "# потом полученную прямую\n",
    "plt.plot(X, Y, c='red', linewidth=2)\n",
    "plt.show()"
   ]
  },
  {
   "cell_type": "code",
   "execution_count": null,
   "metadata": {},
   "outputs": [],
   "source": []
  },
  {
   "cell_type": "code",
   "execution_count": null,
   "metadata": {},
   "outputs": [],
   "source": []
  }
 ],
 "metadata": {
  "kernelspec": {
   "display_name": "Python 3 (ipykernel)",
   "language": "python",
   "name": "python3"
  },
  "language_info": {
   "codemirror_mode": {
    "name": "ipython",
    "version": 3
   },
   "file_extension": ".py",
   "mimetype": "text/x-python",
   "name": "python",
   "nbconvert_exporter": "python",
   "pygments_lexer": "ipython3",
   "version": "3.9.7"
  }
 },
 "nbformat": 4,
 "nbformat_minor": 4
}
