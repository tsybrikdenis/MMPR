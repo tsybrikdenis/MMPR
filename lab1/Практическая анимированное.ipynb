{
 "cells": [
  {
   "cell_type": "code",
   "execution_count": 1,
   "id": "99fd3adf",
   "metadata": {},
   "outputs": [],
   "source": [
    "import pandas as pd\n",
    "import matplotlib.pyplot as plt\n",
    "import numpy as np\n",
    "import matplotlib.animation as animation\n",
    "from IPython.display import IFrame"
   ]
  },
  {
   "cell_type": "code",
   "execution_count": 2,
   "id": "d98d2ea3",
   "metadata": {},
   "outputs": [],
   "source": [
    "# считаем данные в DataFrame\n",
    "data = pd.read_csv('Points.csv', index_col=0)\n",
    "import random\n",
    "w_array = []\n",
    "w = np.array([random.random() for i in range(3)])\n",
    "w_array.append(w)\n",
    "X = pd.DataFrame({'X_1': [data.x1.min()-5, data.x1.max()+5]})"
   ]
  },
  {
   "cell_type": "code",
   "execution_count": 3,
   "id": "15b87853",
   "metadata": {},
   "outputs": [
    {
     "name": "stdout",
     "output_type": "stream",
     "text": [
      "Прогонка № 1\n",
      "Значения совпадают продолжаем\n",
      "Значения не совпадают меняем веса\n",
      "w= [-37.28966029 -25.49363359  -3.08483829]\n",
      "Значения не совпадают меняем веса\n",
      "w= [-27.28966029 -17.09363359   0.91516171]\n",
      "Значения совпадают продолжаем\n",
      "Значения не совпадают меняем веса\n",
      "w= [-25.28966029  -8.29363359   4.91516171]\n",
      "Значения совпадают продолжаем\n",
      "Значения совпадают продолжаем\n",
      "Значения не совпадают меняем веса\n",
      "w= [-14.08966029  -5.09363359   8.91516171]\n",
      "Значения не совпадают меняем веса\n",
      "w= [-9.28966029  6.90636641 12.91516171]\n",
      "Значения совпадают продолжаем\n",
      "Прогонка № 2\n",
      "Значения совпадают продолжаем\n",
      "Значения совпадают продолжаем\n",
      "Значения совпадают продолжаем\n",
      "Значения совпадают продолжаем\n",
      "Значения совпадают продолжаем\n",
      "Значения совпадают продолжаем\n",
      "Значения совпадают продолжаем\n",
      "Значения не совпадают меняем веса\n",
      "w= [ 1.91033971 10.10636641 16.91516171]\n",
      "Значения совпадают продолжаем\n",
      "Значения не совпадают меняем веса\n",
      "w= [-29.28966029 -14.29363359  12.91516171]\n",
      "Прогонка № 3\n",
      "Значения не совпадают меняем веса\n",
      "w= [-25.28966029 -10.29363359  16.91516171]\n",
      "Значения совпадают продолжаем\n",
      "Значения не совпадают меняем веса\n",
      "w= [-15.28966029  -1.89363359  20.91516171]\n",
      "Значения совпадают продолжаем\n",
      "Значения совпадают продолжаем\n",
      "Значения совпадают продолжаем\n",
      "Значения совпадают продолжаем\n",
      "Значения не совпадают меняем веса\n",
      "w= [-4.08966029  1.30636641 24.91516171]\n",
      "Значения совпадают продолжаем\n",
      "Значения не совпадают меняем веса\n",
      "w= [-35.28966029 -23.09363359  20.91516171]\n",
      "Прогонка № 4\n",
      "Значения не совпадают меняем веса\n",
      "w= [-31.28966029 -19.09363359  24.91516171]\n",
      "Значения совпадают продолжаем\n",
      "Значения не совпадают меняем веса\n",
      "w= [-21.28966029 -10.69363359  28.91516171]\n",
      "Значения совпадают продолжаем\n",
      "Значения не совпадают меняем веса\n",
      "w= [-19.28966029  -1.89363359  32.91516171]\n",
      "Значения совпадают продолжаем\n",
      "Значения совпадают продолжаем\n",
      "Значения не совпадают меняем веса\n",
      "w= [-8.08966029  1.30636641 36.91516171]\n",
      "Значения совпадают продолжаем\n",
      "Значения совпадают продолжаем\n",
      "Прогонка № 5\n",
      "Значения совпадают продолжаем\n",
      "Значения совпадают продолжаем\n",
      "Значения совпадают продолжаем\n",
      "Значения совпадают продолжаем\n",
      "Значения совпадают продолжаем\n",
      "Значения совпадают продолжаем\n",
      "Значения совпадают продолжаем\n",
      "Значения совпадают продолжаем\n",
      "Значения совпадают продолжаем\n",
      "Значения совпадают продолжаем\n"
     ]
    }
   ],
   "source": [
    "counter = 1 \n",
    "flag = 1\n",
    "while flag == 1:\n",
    "    flag = 0 \n",
    "    print('Прогонка №', counter)\n",
    "    for i in range(1,len(data.index)+1):\n",
    "        point_coord = np.array([data.loc[i]['x1'],data.loc[i]['x2'],1])\n",
    "        f_net = np.sign(np.dot(w,point_coord))\n",
    "        #print('f(net)=',f_net)\n",
    "        #print('d_',i,'=',data.loc[i]['answer'])\n",
    "        if f_net == data.loc[i]['answer']:\n",
    "            print('Значения совпадают продолжаем')\n",
    "        else:\n",
    "            print('Значения не совпадают меняем веса')\n",
    "            flag = 1\n",
    "            w = w + 2 * (data.loc[i]['answer'] - f_net) * point_coord\n",
    "            w_array.append(w)\n",
    "            print('w=',w)\n",
    "    counter += 1"
   ]
  },
  {
   "cell_type": "code",
   "execution_count": 4,
   "id": "915368fc",
   "metadata": {},
   "outputs": [
    {
     "name": "stderr",
     "output_type": "stream",
     "text": [
      "MovieWriter ffmpeg unavailable; using Pillow instead.\n"
     ]
    },
    {
     "data": {
      "image/png": "[encoded data removed]",
      "text/plain": [
       "<Figure size 432x288 with 1 Axes>"
      ]
     },
     "metadata": {
      "needs_background": "light"
     },
     "output_type": "display_data"
    }
   ],
   "source": [
    "plt.style.use('seaborn-pastel')\n",
    "fig = plt.figure()\n",
    "#creating a subplot \n",
    "ax1 = fig.add_subplot(1,1,1) \n",
    "\n",
    "def animate(i):\n",
    "    ax1.clear()\n",
    "    Y = -w_array[i][0]/w_array[i][1]*X-w_array[i][2]/w_array[i][1]\n",
    "    ax1.set_xlim([data.x1.min()-5, data.x1.max()+5])\n",
    "    ax1.set_ylim([data.x2.min()-5, data.x2.max()+5])\n",
    "    data.plot(kind='scatter', x='x1', y='x2', ax = ax1)\n",
    "    ax1.plot(X, Y, c='red', linewidth=2)\n",
    "    plt.xlabel('x1')\n",
    "    plt.ylabel('x2')\n",
    "    plt.title('Live graph iteration '+str(i))\n",
    "\n",
    "ani = animation.FuncAnimation(fig, animate, frames=len(w_array), interval=500)\n",
    "\n",
    "# ani.save('classification.gif', writer='imagemagick')\n",
    "ani.save('classification.gif')"
   ]
  },
  {
   "cell_type": "code",
   "execution_count": 5,
   "id": "204b3829",
   "metadata": {},
   "outputs": [
    {
     "data": {
      "text/html": [
       "\n",
       "        <iframe\n",
       "            width=\"800\"\n",
       "            height=\"400\"\n",
       "            src=\"classification.gif\"\n",
       "            frameborder=\"0\"\n",
       "            allowfullscreen\n",
       "            \n",
       "        ></iframe>\n",
       "        "
      ],
      "text/plain": [
       "<IPython.lib.display.IFrame at 0x2512f90d9d0>"
      ]
     },
     "execution_count": 5,
     "metadata": {},
     "output_type": "execute_result"
    }
   ],
   "source": [
    "from IPython.display import IFrame\n",
    "IFrame('classification.gif', width=800, height=400)"
   ]
  },
  {
   "cell_type": "code",
   "execution_count": null,
   "id": "c4f794f7",
   "metadata": {},
   "outputs": [],
   "source": []
  }
 ],
 "metadata": {
  "kernelspec": {
   "display_name": "Python 3 (ipykernel)",
   "language": "python",
   "name": "python3"
  },
  "language_info": {
   "codemirror_mode": {
    "name": "ipython",
    "version": 3
   },
   "file_extension": ".py",
   "mimetype": "text/x-python",
   "name": "python",
   "nbconvert_exporter": "python",
   "pygments_lexer": "ipython3",
   "version": "3.9.7"
  }
 },
 "nbformat": 4,
 "nbformat_minor": 5
}
